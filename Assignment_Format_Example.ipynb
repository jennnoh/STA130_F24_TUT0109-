{
 "cells": [
  {
   "cell_type": "markdown",
   "id": "aa94eaf5",
   "metadata": {},
   "source": [
    "# Simple Jupyter Notebook Assignment Format\n",
    "## 1. Introduction to Jupyter Notebook\n",
    "Jupyter Notebook is a great tool for writing code and documentation together. It has two main types of cells:\n",
    "- **Code Cells**: For writing and executing code.\n",
    "- **Markdown Cells**: For writing formatted text."
   ]
  },
  {
   "cell_type": "markdown",
   "id": "cfecc2e0",
   "metadata": {},
   "source": [
    "## 2. Code Cells\n",
    "Code cells allow you to write and execute code. For example:"
   ]
  },
  {
   "cell_type": "code",
   "execution_count": null,
   "id": "35c132b6",
   "metadata": {},
   "outputs": [],
   "source": [
    "print('Hello, World!')"
   ]
  },
  {
   "cell_type": "markdown",
   "id": "3bc96139",
   "metadata": {},
   "source": [
    "## 3. Markdown Cells\n",
    "Markdown cells allow you to write formatted text. Markdown is useful for adding explanations, instructions, and headings.\n",
    "\n",
    "### Example of Markdown\n",
    "You can format text in different ways:\n",
    "- **Bold Text**: Use `**bold**` or `__bold__`\n",
    "- *Italic Text*: Use `*italic*` or `_italic_`\n",
    "- `Monospace Text`: Use backticks for inline code.\n",
    "- You can also add bullet points, numbered lists, and links."
   ]
  },
  {
   "cell_type": "markdown",
   "id": "b6ea325a",
   "metadata": {},
   "source": [
    "## 4. Mixing Code and Markdown\n",
    "In a Jupyter notebook, it's common to mix code and markdown cells. Below is an example where we describe the code in a markdown cell, and then show the actual code in a code cell."
   ]
  },
  {
   "cell_type": "code",
   "execution_count": null,
   "id": "b81c84f7",
   "metadata": {},
   "outputs": [],
   "source": [
    "x = 5\n",
    "y = 10\n",
    "result = x + y\n",
    "print(f'The sum of {x} and {y} is {result}')"
   ]
  }
 ],
 "metadata": {},
 "nbformat": 4,
 "nbformat_minor": 5
}
